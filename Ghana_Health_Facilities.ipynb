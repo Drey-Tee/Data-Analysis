{
  "nbformat": 4,
  "nbformat_minor": 0,
  "metadata": {
    "colab": {
      "name": "Ghana_Health_Facilities.ipynb",
      "provenance": [],
      "authorship_tag": "ABX9TyPtVGGwNwgk+qxy7UtTZ6ww",
      "include_colab_link": true
    },
    "kernelspec": {
      "name": "python3",
      "display_name": "Python 3"
    },
    "language_info": {
      "name": "python"
    }
  },
  "cells": [
    {
      "cell_type": "markdown",
      "metadata": {
        "id": "view-in-github",
        "colab_type": "text"
      },
      "source": [
        "<a href=\"https://colab.research.google.com/github/Drey-Tee/Data-Analysis/blob/main/Ghana_Health_Facilities.ipynb\" target=\"_parent\"><img src=\"https://colab.research.google.com/assets/colab-badge.svg\" alt=\"Open In Colab\"/></a>"
      ]
    },
    {
      "cell_type": "code",
      "execution_count": null,
      "metadata": {
        "colab": {
          "resources": {
            "http://localhost:8080/nbextensions/google.colab/files.js": {
              "data": "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",
              "ok": true,
              "headers": [
                [
                  "content-type",
                  "application/javascript"
                ]
              ],
              "status": 200,
              "status_text": ""
            }
          },
          "base_uri": "https://localhost:8080/",
          "height": 74
        },
        "id": "YUthx7U-Lz6p",
        "outputId": "dcbb87ff-cb26-4e3a-cd4e-2174c3d8e6d9"
      },
      "outputs": [
        {
          "output_type": "display_data",
          "data": {
            "text/plain": [
              "<IPython.core.display.HTML object>"
            ],
            "text/html": [
              "\n",
              "     <input type=\"file\" id=\"files-c26eeedc-1a22-46ad-8146-8b327b6ce891\" name=\"files[]\" multiple disabled\n",
              "        style=\"border:none\" />\n",
              "     <output id=\"result-c26eeedc-1a22-46ad-8146-8b327b6ce891\">\n",
              "      Upload widget is only available when the cell has been executed in the\n",
              "      current browser session. Please rerun this cell to enable.\n",
              "      </output>\n",
              "      <script src=\"/nbextensions/google.colab/files.js\"></script> "
            ]
          },
          "metadata": {}
        },
        {
          "output_type": "stream",
          "name": "stdout",
          "text": [
            "Saving health-facilities-gh.csv to health-facilities-gh.csv\n"
          ]
        }
      ],
      "source": [
        "#upload dataset from google drive\n",
        "from google.colab import files\n",
        "uploaded = files.upload()"
      ]
    },
    {
      "cell_type": "code",
      "source": [
        "#import dataset using pandas\n",
        "import io\n",
        "import pandas as pd\n",
        "health_data = pd.read_csv(io.BytesIO(uploaded['health-facilities-gh.csv']))"
      ],
      "metadata": {
        "id": "PM5FUHDDMV6I"
      },
      "execution_count": null,
      "outputs": []
    },
    {
      "cell_type": "code",
      "source": [
        "#get first 20 elements of dataset\n",
        "health_data.head(20)"
      ],
      "metadata": {
        "colab": {
          "base_uri": "https://localhost:8080/",
          "height": 677
        },
        "id": "5Ze2KgXfMV9u",
        "outputId": "e29bb84f-745c-45c6-daf0-974f4884aab0"
      },
      "execution_count": null,
      "outputs": [
        {
          "output_type": "execute_result",
          "data": {
            "text/plain": [
              "     Region                     District                   FacilityName  \\\n",
              "0   Ashanti                Offinso North              A.M.E Zion Clinic   \n",
              "1   Ashanti             Bekwai Municipal              Abenkyiman Clinic   \n",
              "2   Ashanti                 Adansi North           Aboabo Health Centre   \n",
              "3   Ashanti                Afigya-Kwabre        Aboabogya Health Centre   \n",
              "4   Ashanti                       Kwabre           Aboaso Health Centre   \n",
              "5   Ashanti                Offinso North         Aboffour Health Centre   \n",
              "6   Ashanti             Atwima-Nwabiagya         Abuakwa Maternity Home   \n",
              "7   Ashanti              Atwima-Kwanwoma       Aburaso Methodist clinic   \n",
              "8   Ashanti       Ejisu-Juaben Municipal          Achiase Health Centre   \n",
              "9   Ashanti            Mampong Municipal          Adidwan Health Centre   \n",
              "10  Ashanti                 Amansie West                  Adimposo CHPS   \n",
              "11  Ashanti  Asante-Akim North Municipal                  Adom Hospital   \n",
              "12  Ashanti              Ahafo-Ano South            Adom Maternity Home   \n",
              "13  Ashanti                Afigya-Kwabre  Adwumakase Kese Health Centre   \n",
              "14  Ashanti                Sekyere South         Afamaso Maternity Home   \n",
              "15  Ashanti              Sekyere Central          Aframso Health Centre   \n",
              "16  Ashanti                Afigya-Kwabre         Afrancho Health Centre   \n",
              "17  Ashanti  Asante-Akim North Municipal          Agogo Presby Hospital   \n",
              "18  Ashanti                Sekyere South            Agona Health Centre   \n",
              "19  Ashanti       Ejisu-Juaben Municipal                Agyenkwa Clinic   \n",
              "\n",
              "              Type             Town   Ownership  Latitude  Longitude  \n",
              "0           Clinic         Afrancho        CHAG   7.40801   -1.96317  \n",
              "1           Clinic     Anwiankwanta     Private   6.46312   -1.58592  \n",
              "2    Health Centre      Aboabo No 2  Government   6.22393   -1.34982  \n",
              "3    Health Centre        Aboabogya  Government   6.84177   -1.61098  \n",
              "4    Health Centre           Aboaso  Government   6.84177   -1.61098  \n",
              "5    Health Centre         Aboffour  Government   7.12986   -1.73294  \n",
              "6   Maternity Home          Abuakwa     Private   7.00000   -2.00000  \n",
              "7           Clinic          Aburaso        CHAG   6.66133   -1.67662  \n",
              "8    Health Centre          Achiase  Government   6.45543   -1.31004  \n",
              "9    Health Centre          Adidwan  Government   7.25163   -1.40278  \n",
              "10            CHPS         Adimposo  Government   6.33659   -1.92588  \n",
              "11        Hospital      Akratiebesa     Private   6.61879   -1.19202  \n",
              "12  Maternity Home         Adinyana     Private   6.88364   -1.87334  \n",
              "13   Health Centre  Adwumakase Kese  Government   6.80813   -1.53933  \n",
              "14  Maternity Home          Afamaso     Private   6.94912   -1.50873  \n",
              "15   Health Centre     Aframso No.3  Government   7.14472   -1.12162  \n",
              "16   Health Centre         Afrancho  Government   6.81527   -1.59589  \n",
              "17        Hospital            Agogo        CHAG   6.79618   -1.08529  \n",
              "18   Health Centre            Agona  Government   6.93605   -1.49759  \n",
              "19          Clinic          Hwireso     Private   6.67522   -1.38159  "
            ],
            "text/html": [
              "\n",
              "  <div id=\"df-7ba95125-aa2e-4a7c-aa07-26108d174da5\">\n",
              "    <div class=\"colab-df-container\">\n",
              "      <div>\n",
              "<style scoped>\n",
              "    .dataframe tbody tr th:only-of-type {\n",
              "        vertical-align: middle;\n",
              "    }\n",
              "\n",
              "    .dataframe tbody tr th {\n",
              "        vertical-align: top;\n",
              "    }\n",
              "\n",
              "    .dataframe thead th {\n",
              "        text-align: right;\n",
              "    }\n",
              "</style>\n",
              "<table border=\"1\" class=\"dataframe\">\n",
              "  <thead>\n",
              "    <tr style=\"text-align: right;\">\n",
              "      <th></th>\n",
              "      <th>Region</th>\n",
              "      <th>District</th>\n",
              "      <th>FacilityName</th>\n",
              "      <th>Type</th>\n",
              "      <th>Town</th>\n",
              "      <th>Ownership</th>\n",
              "      <th>Latitude</th>\n",
              "      <th>Longitude</th>\n",
              "    </tr>\n",
              "  </thead>\n",
              "  <tbody>\n",
              "    <tr>\n",
              "      <th>0</th>\n",
              "      <td>Ashanti</td>\n",
              "      <td>Offinso North</td>\n",
              "      <td>A.M.E Zion Clinic</td>\n",
              "      <td>Clinic</td>\n",
              "      <td>Afrancho</td>\n",
              "      <td>CHAG</td>\n",
              "      <td>7.40801</td>\n",
              "      <td>-1.96317</td>\n",
              "    </tr>\n",
              "    <tr>\n",
              "      <th>1</th>\n",
              "      <td>Ashanti</td>\n",
              "      <td>Bekwai Municipal</td>\n",
              "      <td>Abenkyiman Clinic</td>\n",
              "      <td>Clinic</td>\n",
              "      <td>Anwiankwanta</td>\n",
              "      <td>Private</td>\n",
              "      <td>6.46312</td>\n",
              "      <td>-1.58592</td>\n",
              "    </tr>\n",
              "    <tr>\n",
              "      <th>2</th>\n",
              "      <td>Ashanti</td>\n",
              "      <td>Adansi North</td>\n",
              "      <td>Aboabo Health Centre</td>\n",
              "      <td>Health Centre</td>\n",
              "      <td>Aboabo No 2</td>\n",
              "      <td>Government</td>\n",
              "      <td>6.22393</td>\n",
              "      <td>-1.34982</td>\n",
              "    </tr>\n",
              "    <tr>\n",
              "      <th>3</th>\n",
              "      <td>Ashanti</td>\n",
              "      <td>Afigya-Kwabre</td>\n",
              "      <td>Aboabogya Health Centre</td>\n",
              "      <td>Health Centre</td>\n",
              "      <td>Aboabogya</td>\n",
              "      <td>Government</td>\n",
              "      <td>6.84177</td>\n",
              "      <td>-1.61098</td>\n",
              "    </tr>\n",
              "    <tr>\n",
              "      <th>4</th>\n",
              "      <td>Ashanti</td>\n",
              "      <td>Kwabre</td>\n",
              "      <td>Aboaso Health Centre</td>\n",
              "      <td>Health Centre</td>\n",
              "      <td>Aboaso</td>\n",
              "      <td>Government</td>\n",
              "      <td>6.84177</td>\n",
              "      <td>-1.61098</td>\n",
              "    </tr>\n",
              "    <tr>\n",
              "      <th>5</th>\n",
              "      <td>Ashanti</td>\n",
              "      <td>Offinso North</td>\n",
              "      <td>Aboffour Health Centre</td>\n",
              "      <td>Health Centre</td>\n",
              "      <td>Aboffour</td>\n",
              "      <td>Government</td>\n",
              "      <td>7.12986</td>\n",
              "      <td>-1.73294</td>\n",
              "    </tr>\n",
              "    <tr>\n",
              "      <th>6</th>\n",
              "      <td>Ashanti</td>\n",
              "      <td>Atwima-Nwabiagya</td>\n",
              "      <td>Abuakwa Maternity Home</td>\n",
              "      <td>Maternity Home</td>\n",
              "      <td>Abuakwa</td>\n",
              "      <td>Private</td>\n",
              "      <td>7.00000</td>\n",
              "      <td>-2.00000</td>\n",
              "    </tr>\n",
              "    <tr>\n",
              "      <th>7</th>\n",
              "      <td>Ashanti</td>\n",
              "      <td>Atwima-Kwanwoma</td>\n",
              "      <td>Aburaso Methodist clinic</td>\n",
              "      <td>Clinic</td>\n",
              "      <td>Aburaso</td>\n",
              "      <td>CHAG</td>\n",
              "      <td>6.66133</td>\n",
              "      <td>-1.67662</td>\n",
              "    </tr>\n",
              "    <tr>\n",
              "      <th>8</th>\n",
              "      <td>Ashanti</td>\n",
              "      <td>Ejisu-Juaben Municipal</td>\n",
              "      <td>Achiase Health Centre</td>\n",
              "      <td>Health Centre</td>\n",
              "      <td>Achiase</td>\n",
              "      <td>Government</td>\n",
              "      <td>6.45543</td>\n",
              "      <td>-1.31004</td>\n",
              "    </tr>\n",
              "    <tr>\n",
              "      <th>9</th>\n",
              "      <td>Ashanti</td>\n",
              "      <td>Mampong Municipal</td>\n",
              "      <td>Adidwan Health Centre</td>\n",
              "      <td>Health Centre</td>\n",
              "      <td>Adidwan</td>\n",
              "      <td>Government</td>\n",
              "      <td>7.25163</td>\n",
              "      <td>-1.40278</td>\n",
              "    </tr>\n",
              "    <tr>\n",
              "      <th>10</th>\n",
              "      <td>Ashanti</td>\n",
              "      <td>Amansie West</td>\n",
              "      <td>Adimposo CHPS</td>\n",
              "      <td>CHPS</td>\n",
              "      <td>Adimposo</td>\n",
              "      <td>Government</td>\n",
              "      <td>6.33659</td>\n",
              "      <td>-1.92588</td>\n",
              "    </tr>\n",
              "    <tr>\n",
              "      <th>11</th>\n",
              "      <td>Ashanti</td>\n",
              "      <td>Asante-Akim North Municipal</td>\n",
              "      <td>Adom Hospital</td>\n",
              "      <td>Hospital</td>\n",
              "      <td>Akratiebesa</td>\n",
              "      <td>Private</td>\n",
              "      <td>6.61879</td>\n",
              "      <td>-1.19202</td>\n",
              "    </tr>\n",
              "    <tr>\n",
              "      <th>12</th>\n",
              "      <td>Ashanti</td>\n",
              "      <td>Ahafo-Ano South</td>\n",
              "      <td>Adom Maternity Home</td>\n",
              "      <td>Maternity Home</td>\n",
              "      <td>Adinyana</td>\n",
              "      <td>Private</td>\n",
              "      <td>6.88364</td>\n",
              "      <td>-1.87334</td>\n",
              "    </tr>\n",
              "    <tr>\n",
              "      <th>13</th>\n",
              "      <td>Ashanti</td>\n",
              "      <td>Afigya-Kwabre</td>\n",
              "      <td>Adwumakase Kese Health Centre</td>\n",
              "      <td>Health Centre</td>\n",
              "      <td>Adwumakase Kese</td>\n",
              "      <td>Government</td>\n",
              "      <td>6.80813</td>\n",
              "      <td>-1.53933</td>\n",
              "    </tr>\n",
              "    <tr>\n",
              "      <th>14</th>\n",
              "      <td>Ashanti</td>\n",
              "      <td>Sekyere South</td>\n",
              "      <td>Afamaso Maternity Home</td>\n",
              "      <td>Maternity Home</td>\n",
              "      <td>Afamaso</td>\n",
              "      <td>Private</td>\n",
              "      <td>6.94912</td>\n",
              "      <td>-1.50873</td>\n",
              "    </tr>\n",
              "    <tr>\n",
              "      <th>15</th>\n",
              "      <td>Ashanti</td>\n",
              "      <td>Sekyere Central</td>\n",
              "      <td>Aframso Health Centre</td>\n",
              "      <td>Health Centre</td>\n",
              "      <td>Aframso No.3</td>\n",
              "      <td>Government</td>\n",
              "      <td>7.14472</td>\n",
              "      <td>-1.12162</td>\n",
              "    </tr>\n",
              "    <tr>\n",
              "      <th>16</th>\n",
              "      <td>Ashanti</td>\n",
              "      <td>Afigya-Kwabre</td>\n",
              "      <td>Afrancho Health Centre</td>\n",
              "      <td>Health Centre</td>\n",
              "      <td>Afrancho</td>\n",
              "      <td>Government</td>\n",
              "      <td>6.81527</td>\n",
              "      <td>-1.59589</td>\n",
              "    </tr>\n",
              "    <tr>\n",
              "      <th>17</th>\n",
              "      <td>Ashanti</td>\n",
              "      <td>Asante-Akim North Municipal</td>\n",
              "      <td>Agogo Presby Hospital</td>\n",
              "      <td>Hospital</td>\n",
              "      <td>Agogo</td>\n",
              "      <td>CHAG</td>\n",
              "      <td>6.79618</td>\n",
              "      <td>-1.08529</td>\n",
              "    </tr>\n",
              "    <tr>\n",
              "      <th>18</th>\n",
              "      <td>Ashanti</td>\n",
              "      <td>Sekyere South</td>\n",
              "      <td>Agona Health Centre</td>\n",
              "      <td>Health Centre</td>\n",
              "      <td>Agona</td>\n",
              "      <td>Government</td>\n",
              "      <td>6.93605</td>\n",
              "      <td>-1.49759</td>\n",
              "    </tr>\n",
              "    <tr>\n",
              "      <th>19</th>\n",
              "      <td>Ashanti</td>\n",
              "      <td>Ejisu-Juaben Municipal</td>\n",
              "      <td>Agyenkwa Clinic</td>\n",
              "      <td>Clinic</td>\n",
              "      <td>Hwireso</td>\n",
              "      <td>Private</td>\n",
              "      <td>6.67522</td>\n",
              "      <td>-1.38159</td>\n",
              "    </tr>\n",
              "  </tbody>\n",
              "</table>\n",
              "</div>\n",
              "      <button class=\"colab-df-convert\" onclick=\"convertToInteractive('df-7ba95125-aa2e-4a7c-aa07-26108d174da5')\"\n",
              "              title=\"Convert this dataframe to an interactive table.\"\n",
              "              style=\"display:none;\">\n",
              "        \n",
              "  <svg xmlns=\"http://www.w3.org/2000/svg\" height=\"24px\"viewBox=\"0 0 24 24\"\n",
              "       width=\"24px\">\n",
              "    <path d=\"M0 0h24v24H0V0z\" fill=\"none\"/>\n",
              "    <path d=\"M18.56 5.44l.94 2.06.94-2.06 2.06-.94-2.06-.94-.94-2.06-.94 2.06-2.06.94zm-11 1L8.5 8.5l.94-2.06 2.06-.94-2.06-.94L8.5 2.5l-.94 2.06-2.06.94zm10 10l.94 2.06.94-2.06 2.06-.94-2.06-.94-.94-2.06-.94 2.06-2.06.94z\"/><path d=\"M17.41 7.96l-1.37-1.37c-.4-.4-.92-.59-1.43-.59-.52 0-1.04.2-1.43.59L10.3 9.45l-7.72 7.72c-.78.78-.78 2.05 0 2.83L4 21.41c.39.39.9.59 1.41.59.51 0 1.02-.2 1.41-.59l7.78-7.78 2.81-2.81c.8-.78.8-2.07 0-2.86zM5.41 20L4 18.59l7.72-7.72 1.47 1.35L5.41 20z\"/>\n",
              "  </svg>\n",
              "      </button>\n",
              "      \n",
              "  <style>\n",
              "    .colab-df-container {\n",
              "      display:flex;\n",
              "      flex-wrap:wrap;\n",
              "      gap: 12px;\n",
              "    }\n",
              "\n",
              "    .colab-df-convert {\n",
              "      background-color: #E8F0FE;\n",
              "      border: none;\n",
              "      border-radius: 50%;\n",
              "      cursor: pointer;\n",
              "      display: none;\n",
              "      fill: #1967D2;\n",
              "      height: 32px;\n",
              "      padding: 0 0 0 0;\n",
              "      width: 32px;\n",
              "    }\n",
              "\n",
              "    .colab-df-convert:hover {\n",
              "      background-color: #E2EBFA;\n",
              "      box-shadow: 0px 1px 2px rgba(60, 64, 67, 0.3), 0px 1px 3px 1px rgba(60, 64, 67, 0.15);\n",
              "      fill: #174EA6;\n",
              "    }\n",
              "\n",
              "    [theme=dark] .colab-df-convert {\n",
              "      background-color: #3B4455;\n",
              "      fill: #D2E3FC;\n",
              "    }\n",
              "\n",
              "    [theme=dark] .colab-df-convert:hover {\n",
              "      background-color: #434B5C;\n",
              "      box-shadow: 0px 1px 3px 1px rgba(0, 0, 0, 0.15);\n",
              "      filter: drop-shadow(0px 1px 2px rgba(0, 0, 0, 0.3));\n",
              "      fill: #FFFFFF;\n",
              "    }\n",
              "  </style>\n",
              "\n",
              "      <script>\n",
              "        const buttonEl =\n",
              "          document.querySelector('#df-7ba95125-aa2e-4a7c-aa07-26108d174da5 button.colab-df-convert');\n",
              "        buttonEl.style.display =\n",
              "          google.colab.kernel.accessAllowed ? 'block' : 'none';\n",
              "\n",
              "        async function convertToInteractive(key) {\n",
              "          const element = document.querySelector('#df-7ba95125-aa2e-4a7c-aa07-26108d174da5');\n",
              "          const dataTable =\n",
              "            await google.colab.kernel.invokeFunction('convertToInteractive',\n",
              "                                                     [key], {});\n",
              "          if (!dataTable) return;\n",
              "\n",
              "          const docLinkHtml = 'Like what you see? Visit the ' +\n",
              "            '<a target=\"_blank\" href=https://colab.research.google.com/notebooks/data_table.ipynb>data table notebook</a>'\n",
              "            + ' to learn more about interactive tables.';\n",
              "          element.innerHTML = '';\n",
              "          dataTable['output_type'] = 'display_data';\n",
              "          await google.colab.output.renderOutput(dataTable, element);\n",
              "          const docLink = document.createElement('div');\n",
              "          docLink.innerHTML = docLinkHtml;\n",
              "          element.appendChild(docLink);\n",
              "        }\n",
              "      </script>\n",
              "    </div>\n",
              "  </div>\n",
              "  "
            ]
          },
          "metadata": {},
          "execution_count": 3
        }
      ]
    },
    {
      "cell_type": "code",
      "source": [
        "#find the general information about the dataset.\n",
        "health_data.info()"
      ],
      "metadata": {
        "colab": {
          "base_uri": "https://localhost:8080/"
        },
        "id": "7l6DU_cVMWA1",
        "outputId": "3516eb1d-3493-4e2d-aa95-cd5bc2953243"
      },
      "execution_count": null,
      "outputs": [
        {
          "output_type": "stream",
          "name": "stdout",
          "text": [
            "<class 'pandas.core.frame.DataFrame'>\n",
            "RangeIndex: 3756 entries, 0 to 3755\n",
            "Data columns (total 8 columns):\n",
            " #   Column        Non-Null Count  Dtype  \n",
            "---  ------        --------------  -----  \n",
            " 0   Region        3756 non-null   object \n",
            " 1   District      3756 non-null   object \n",
            " 2   FacilityName  3756 non-null   object \n",
            " 3   Type          3756 non-null   object \n",
            " 4   Town          3603 non-null   object \n",
            " 5   Ownership     3756 non-null   object \n",
            " 6   Latitude      3732 non-null   float64\n",
            " 7   Longitude     3732 non-null   float64\n",
            "dtypes: float64(2), object(6)\n",
            "memory usage: 234.9+ KB\n"
          ]
        }
      ]
    },
    {
      "cell_type": "code",
      "source": [
        "#find the unique regions in the region column of the dataset\n",
        "health_data['Region'].unique()"
      ],
      "metadata": {
        "colab": {
          "base_uri": "https://localhost:8080/"
        },
        "id": "TJMFa_rhMWHm",
        "outputId": "00eee62a-0a44-4cff-aab8-daa9cf1b48c9"
      },
      "execution_count": null,
      "outputs": [
        {
          "output_type": "execute_result",
          "data": {
            "text/plain": [
              "array(['Ashanti', 'Brong Ahafo', 'Central', 'Eastern', 'Greater Accra',\n",
              "       'Northern', 'Upper East', 'Upper West', 'Volta', 'Western'],\n",
              "      dtype=object)"
            ]
          },
          "metadata": {},
          "execution_count": 5
        }
      ]
    },
    {
      "cell_type": "code",
      "source": [
        "#find the unique districts in the district column of the dataset\n",
        "health_data['District'].unique()"
      ],
      "metadata": {
        "colab": {
          "base_uri": "https://localhost:8080/"
        },
        "id": "_Rr_iUMHMWK_",
        "outputId": "b3909965-85c4-48e5-a44f-c584a3fa813e"
      },
      "execution_count": null,
      "outputs": [
        {
          "output_type": "execute_result",
          "data": {
            "text/plain": [
              "array(['Offinso North', 'Bekwai Municipal', 'Adansi North',\n",
              "       'Afigya-Kwabre', 'Kwabre', 'Atwima-Nwabiagya', 'Atwima-Kwanwoma',\n",
              "       'Ejisu-Juaben Municipal', 'Mampong Municipal', 'Amansie West',\n",
              "       'Asante-Akim North Municipal', 'Ahafo-Ano South', 'Sekyere South',\n",
              "       'Sekyere Central', 'Obuasi Municipal', 'Sekyere East',\n",
              "       'Adansi South', 'Amansie Central', 'Ahafo-Ano North', 'Bosomtwe',\n",
              "       'Sekyere Afram Plains', 'Bosome Freho', 'Ejura Sekyeredumasi',\n",
              "       'Asante-Akim South', 'Atwima-Mponua', 'Offinso Municipal',\n",
              "       'Kumasi Metropolitan', 'Asunafo North Municipal', 'Asunafo South',\n",
              "       'Asutifi', 'Atebubu-Amanten', 'Berekum Municipal',\n",
              "       'Dormaa Municipal', 'Dormaa East', 'Jaman North', 'Jaman South',\n",
              "       'Kintampo North Municipal', 'Kintampo South', 'Nkoranza', 'Pru',\n",
              "       'Sene', 'Sunyani', 'Tain', 'Tano North', 'Tano South', 'Techiman',\n",
              "       'Wenchi', 'Nkoranza North', 'Techiman Municipal',\n",
              "       'Wenchi Municipal', 'Sunyani Municipal', 'Sunyani West',\n",
              "       'Abura-Asebu-Kwamankese', 'Ajumako-Enyan-Essiam',\n",
              "       'Asikuma-Odoben-Brakwa', 'Assin North Municipal', 'Assin South',\n",
              "       'Awutu Senya', 'Cape Coast Metropolitan', 'Mfantseman',\n",
              "       'Twifu-Hemang-Lower Denkyira', 'Upper Denkyira East',\n",
              "       'Upper Denkyira West', 'Agona East', 'Agona West Municipal',\n",
              "       'Efutu Municipal', 'Gomoa East', 'Gomoa West',\n",
              "       'Komenda-Edina-Eguafo-Abirem Municipal', 'Kwahu North',\n",
              "       'Akwapim North', 'Akwapim South', 'Asuogyamang', 'Atiwa',\n",
              "       'Birim North', 'Birim south', 'East Akim', 'Fanteakwa',\n",
              "       'Kwaebibirem', 'Kwahu South', 'Kwahu West', 'Manya Krobo',\n",
              "       'New Juaben', 'Suhum Kraboa Coaltar', 'West Akim', 'Yilo Krobo',\n",
              "       'Upper Manya', 'Akyemansa', 'Kweabibirem', 'New Juaben Municipal',\n",
              "       'Birim South', 'Accra Metropolitan', 'Ga East',\n",
              "       'Tema Metropolitan', 'Dangme East', 'Ga West', 'Dangme West',\n",
              "       'Dangme west', 'Bole', 'Bunkpurugu-Yunyuo', 'Central Gonja',\n",
              "       'East Gonja', 'East Mamprusi', 'Gushegu', 'Karaga',\n",
              "       'Nanumba North', 'Nanumba South', 'Saboba-Chereponi',\n",
              "       'Savelugu-Nanton', 'Sawla-Tuna-Kalba', 'Tamale Metropolitan',\n",
              "       'Tolon-Kumbungu', 'West Gonja', 'West Mamprusi', 'Yendi',\n",
              "       'Zabzugu-Tatale', 'Bawku Municipal', 'Bawku West',\n",
              "       'Bolgatanga Municipal', 'Bongo', 'Builsa', 'Garu-Tempane',\n",
              "       'Kassena-Nankana', 'Kassena-Nankana West', 'Talensi-Nabdam',\n",
              "       'Navrongo', 'Lambussie', 'Jirapa', 'Lawra', 'Nadowli',\n",
              "       'Sissala East', 'Sissala West', 'Wa East', 'Wa Municipal',\n",
              "       'Wa West', 'Wa', 'Adaklu-Anyigbe', 'Ho Municipal', 'Hohoe',\n",
              "       'Jasikan', 'Kadjebi', 'Keta', 'Ketu', 'Kpando', 'Krachi East',\n",
              "       'Krachi West', 'Nkwanta', 'North Tongu', 'South Dayi',\n",
              "       'South Tongu', 'Akatsi', 'Ahanta West', 'Aowin Suaman', 'Bia',\n",
              "       'Bibiani-Anhwiaso-Bekwai', 'Ellembele', 'Jomoro', 'Juabeso',\n",
              "       'Mpohor-Wassa East', 'Prestea-Huni Valley', 'Nzema East',\n",
              "       'Nzema East Municipal', 'Sefwi Wiawso', 'Sefwi-Akontombra',\n",
              "       'Shama Ahanta East', 'Shama', 'Wassa-Amenfi East', 'Wassa West',\n",
              "       'Tarkwa Nsuaem Municipal', 'Wassa-Amenfi West',\n",
              "       'Pretea-Huni Valley'], dtype=object)"
            ]
          },
          "metadata": {},
          "execution_count": 6
        }
      ]
    },
    {
      "cell_type": "code",
      "source": [
        "#find the unique facility name in the falicity name column of the dataset\n",
        "health_data['FacilityName'].unique()"
      ],
      "metadata": {
        "colab": {
          "base_uri": "https://localhost:8080/"
        },
        "id": "qjd75hWIMWOX",
        "outputId": "cee40273-af1a-45dd-cb29-0c14d5a25b36"
      },
      "execution_count": null,
      "outputs": [
        {
          "output_type": "execute_result",
          "data": {
            "text/plain": [
              "array(['A.M.E Zion Clinic', 'Abenkyiman Clinic', 'Aboabo Health Centre',\n",
              "       ..., 'Kojokrom CHPS', 'Yawkrom CHPS', 'Kofikrom CHPS'],\n",
              "      dtype=object)"
            ]
          },
          "metadata": {},
          "execution_count": 7
        }
      ]
    },
    {
      "cell_type": "code",
      "source": [
        "#find the unique facility type in the type column of the dataset\n",
        "health_data['Type'].unique()"
      ],
      "metadata": {
        "colab": {
          "base_uri": "https://localhost:8080/"
        },
        "id": "llQK1_A-MWRn",
        "outputId": "c1804f48-cbc5-4811-898e-bcce17e31332"
      },
      "execution_count": null,
      "outputs": [
        {
          "output_type": "execute_result",
          "data": {
            "text/plain": [
              "array(['Clinic', 'Health Centre', 'Maternity Home', 'CHPS', 'Hospital',\n",
              "       'District Hospital', 'Centre', 'RCH', 'Training Institution',\n",
              "       'Municipal Health Directorate', 'Teaching Hospital',\n",
              "       'Regional Hospital', 'CPHS', 'District Health Directorate',\n",
              "       'Regional Health Directorate', 'Polyclinic', 'Municipal Hospital',\n",
              "       'Municipal  Health Directorate', 'Metropolitan Hospital',\n",
              "       'Metropolitan Health Directorate', 'DHD', 'Psychiatric Hospital',\n",
              "       'Research Institution', 'Others', 'clinic'], dtype=object)"
            ]
          },
          "metadata": {},
          "execution_count": 8
        }
      ]
    },
    {
      "cell_type": "code",
      "source": [
        "#find the unique towns in the district column of the dataset\n",
        "health_data['Town'].unique()"
      ],
      "metadata": {
        "colab": {
          "base_uri": "https://localhost:8080/"
        },
        "id": "yt5UzkNgMWVA",
        "outputId": "62ebca84-9186-4dea-ccbb-383575f1c56b"
      },
      "execution_count": null,
      "outputs": [
        {
          "output_type": "execute_result",
          "data": {
            "text/plain": [
              "array(['Afrancho', 'Anwiankwanta', 'Aboabo No 2', ..., 'Wansampo',\n",
              "       'Apprutu', 'Yawkrom'], dtype=object)"
            ]
          },
          "metadata": {},
          "execution_count": 9
        }
      ]
    },
    {
      "cell_type": "code",
      "source": [
        "#find the unique health ownership in the ownership column of the dataset\n",
        "health_data['Ownership'].unique()"
      ],
      "metadata": {
        "colab": {
          "base_uri": "https://localhost:8080/"
        },
        "id": "tv0BQcdzMWYr",
        "outputId": "7a0cee98-c2d8-48ed-933c-3fd86510ea2a"
      },
      "execution_count": null,
      "outputs": [
        {
          "output_type": "execute_result",
          "data": {
            "text/plain": [
              "array(['CHAG', 'Private', 'Government', 'Quasi-Government', 'Islamic',\n",
              "       'Muslim', 'Maternity Home', 'Clinic', 'private', 'NGO',\n",
              "       'government', 'Mission'], dtype=object)"
            ]
          },
          "metadata": {},
          "execution_count": 10
        }
      ]
    },
    {
      "cell_type": "code",
      "source": [
        "#find the unique longitude in the longitude column of the dataset\n",
        "health_data['Longitude'].unique()"
      ],
      "metadata": {
        "colab": {
          "base_uri": "https://localhost:8080/"
        },
        "id": "bMc5lbdDMWcM",
        "outputId": "abfb7b4a-f82b-4b8b-bfff-0083b1ae9258"
      },
      "execution_count": null,
      "outputs": [
        {
          "output_type": "execute_result",
          "data": {
            "text/plain": [
              "array([-1.96317  , -1.58592  , -1.34982  , ..., -2.1434479, -1.6269003,\n",
              "       -1.992202 ])"
            ]
          },
          "metadata": {},
          "execution_count": 11
        }
      ]
    },
    {
      "cell_type": "code",
      "source": [
        "#find the unique latitude in the latitude column of the dataset\n",
        "health_data['Latitude'].unique()"
      ],
      "metadata": {
        "colab": {
          "base_uri": "https://localhost:8080/"
        },
        "id": "F99xNhqqMWf1",
        "outputId": "30a5875e-b7b2-412b-8342-a2aff27f0ce8"
      },
      "execution_count": null,
      "outputs": [
        {
          "output_type": "execute_result",
          "data": {
            "text/plain": [
              "array([7.40801  , 6.46312  , 6.22393  , ..., 5.434363 , 5.0194828,\n",
              "       5.299986 ])"
            ]
          },
          "metadata": {},
          "execution_count": 12
        }
      ]
    },
    {
      "cell_type": "code",
      "source": [
        "#get the count of unique elements of every column in the dataset\n",
        "health_data.nunique()"
      ],
      "metadata": {
        "colab": {
          "base_uri": "https://localhost:8080/"
        },
        "id": "dplJg5Z7MWj2",
        "outputId": "4594a69f-cdb9-4312-b865-0ccffbe93142"
      },
      "execution_count": null,
      "outputs": [
        {
          "output_type": "execute_result",
          "data": {
            "text/plain": [
              "Region            10\n",
              "District         171\n",
              "FacilityName    3544\n",
              "Type              25\n",
              "Town            2446\n",
              "Ownership         12\n",
              "Latitude        2845\n",
              "Longitude       2835\n",
              "dtype: int64"
            ]
          },
          "metadata": {},
          "execution_count": 13
        }
      ]
    },
    {
      "cell_type": "code",
      "source": [
        "#getting the count of all columns that have null values\n",
        "#here, we can see we are missing some data in 3 columns namely Town,Longitude and Latitude\n",
        "print(health_data.isnull().sum())"
      ],
      "metadata": {
        "id": "n5t-VPFoR6aN",
        "colab": {
          "base_uri": "https://localhost:8080/"
        },
        "outputId": "8981148c-3a1f-45a1-b38f-e180f17dc53b"
      },
      "execution_count": null,
      "outputs": [
        {
          "output_type": "stream",
          "name": "stdout",
          "text": [
            "Region            0\n",
            "District          0\n",
            "FacilityName      0\n",
            "Type              0\n",
            "Town            153\n",
            "Ownership         0\n",
            "Latitude         24\n",
            "Longitude        24\n",
            "dtype: int64\n"
          ]
        }
      ]
    },
    {
      "cell_type": "code",
      "source": [
        "#declared a new variable to store the new dataset after dropping null values\n",
        "health = health_data.dropna()"
      ],
      "metadata": {
        "id": "E4e6MhwMR6dt"
      },
      "execution_count": null,
      "outputs": []
    },
    {
      "cell_type": "code",
      "source": [
        "#getting tje count of all columns that have null values\n",
        "#here, it can be seen that we no longer have any null values due to dropping the earlier\n",
        "print(health.isnull().sum())"
      ],
      "metadata": {
        "id": "gSDyulYdR6hM",
        "colab": {
          "base_uri": "https://localhost:8080/"
        },
        "outputId": "ef2436ac-0be8-473e-c0d4-107d4a1d0a9d"
      },
      "execution_count": null,
      "outputs": [
        {
          "output_type": "stream",
          "name": "stdout",
          "text": [
            "Region          0\n",
            "District        0\n",
            "FacilityName    0\n",
            "Type            0\n",
            "Town            0\n",
            "Ownership       0\n",
            "Latitude        0\n",
            "Longitude       0\n",
            "dtype: int64\n"
          ]
        }
      ]
    },
    {
      "cell_type": "code",
      "source": [
        "#checking to see if we have the same number of records for all columns\n",
        "health.info()"
      ],
      "metadata": {
        "id": "_v-yqdu5R6kl",
        "colab": {
          "base_uri": "https://localhost:8080/"
        },
        "outputId": "eaec8414-702f-4e33-e47a-2f87cc8d97c6"
      },
      "execution_count": null,
      "outputs": [
        {
          "output_type": "stream",
          "name": "stdout",
          "text": [
            "<class 'pandas.core.frame.DataFrame'>\n",
            "Int64Index: 3587 entries, 0 to 3755\n",
            "Data columns (total 8 columns):\n",
            " #   Column        Non-Null Count  Dtype  \n",
            "---  ------        --------------  -----  \n",
            " 0   Region        3587 non-null   object \n",
            " 1   District      3587 non-null   object \n",
            " 2   FacilityName  3587 non-null   object \n",
            " 3   Type          3587 non-null   object \n",
            " 4   Town          3587 non-null   object \n",
            " 5   Ownership     3587 non-null   object \n",
            " 6   Latitude      3587 non-null   float64\n",
            " 7   Longitude     3587 non-null   float64\n",
            "dtypes: float64(2), object(6)\n",
            "memory usage: 252.2+ KB\n"
          ]
        }
      ]
    },
    {
      "cell_type": "code",
      "source": [
        "#plotting a bar graph to show the counr of facilities in the various regions\n",
        "import seaborn as sns\n",
        "import matplotlib.pyplot as plt\n",
        "sns.set_theme(style=\"darkgrid\")\n",
        "regions = health\n",
        "ax = sns.countplot(x=health[\"Region\"], data=regions)\n",
        "ax.set_xticklabels(ax.get_xticklabels(), rotation=40, ha=\"right\")\n",
        "plt.tight_layout()\n",
        "plt.show()"
      ],
      "metadata": {
        "id": "tuiAl0CnR6n_",
        "colab": {
          "base_uri": "https://localhost:8080/",
          "height": 293
        },
        "outputId": "0dc3d863-b815-477c-8db2-b867cdf46e26"
      },
      "execution_count": null,
      "outputs": [
        {
          "output_type": "display_data",
          "data": {
            "text/plain": [
              "<Figure size 432x288 with 1 Axes>"
            ],
            "image/png": "[encoded data removed]"
          },
          "metadata": {}
        }
      ]
    },
    {
      "cell_type": "code",
      "source": [
        "#plotting a bar graph to show the count of the various facility types in the country\n",
        "sns.set_theme(style=\"darkgrid\")\n",
        "health_facility_types = health\n",
        "ax = sns.countplot(x=health[\"Type\"], data=health_facility_types)\n",
        "ax.set_xticklabels(ax.get_xticklabels(), rotation=50, ha=\"right\")\n",
        "plt.tight_layout()\n",
        "plt.show()"
      ],
      "metadata": {
        "id": "Q74aB6fbR6rg",
        "colab": {
          "base_uri": "https://localhost:8080/",
          "height": 293
        },
        "outputId": "03059c55-6c69-4ca5-ffcf-3a54e823d52c"
      },
      "execution_count": null,
      "outputs": [
        {
          "output_type": "display_data",
          "data": {
            "text/plain": [
              "<Figure size 432x288 with 1 Axes>"
            ],
            "image/png": "[encoded data removed]"
          },
          "metadata": {}
        }
      ]
    },
    {
      "cell_type": "code",
      "source": [
        "#plotting a bar graph to show the count of the various facility ownership in the country\n",
        "sns.set_theme(style=\"darkgrid\")\n",
        "health_facility_types = health\n",
        "ax = sns.countplot(x=health[\"Ownership\"], data=health_facility_types)\n",
        "ax.set_xticklabels(ax.get_xticklabels(), rotation=50, ha=\"right\")\n",
        "plt.tight_layout()\n",
        "plt.show()"
      ],
      "metadata": {
        "id": "BEiYpLZ3R6vA",
        "colab": {
          "base_uri": "https://localhost:8080/",
          "height": 293
        },
        "outputId": "dc0d9a48-8727-45e2-bb50-2bdec08ac062"
      },
      "execution_count": null,
      "outputs": [
        {
          "output_type": "display_data",
          "data": {
            "text/plain": [
              "<Figure size 432x288 with 1 Axes>"
            ],
            "image/png": "[encoded data removed]"
          },
          "metadata": {}
        }
      ]
    },
    {
      "cell_type": "code",
      "source": [
        ""
      ],
      "metadata": {
        "id": "eeipdLrfR6yQ"
      },
      "execution_count": null,
      "outputs": []
    },
    {
      "cell_type": "code",
      "source": [
        ""
      ],
      "metadata": {
        "id": "ZGJjmQQ5R61e"
      },
      "execution_count": null,
      "outputs": []
    },
    {
      "cell_type": "code",
      "source": [
        ""
      ],
      "metadata": {
        "id": "Bp7jpf1_R65H"
      },
      "execution_count": null,
      "outputs": []
    },
    {
      "cell_type": "code",
      "source": [
        ""
      ],
      "metadata": {
        "id": "aRdQBI8FR68Z"
      },
      "execution_count": null,
      "outputs": []
    },
    {
      "cell_type": "code",
      "source": [
        ""
      ],
      "metadata": {
        "id": "-EOapFA7R6_y"
      },
      "execution_count": null,
      "outputs": []
    },
    {
      "cell_type": "code",
      "source": [
        ""
      ],
      "metadata": {
        "id": "ke9fDDkOR7DF"
      },
      "execution_count": null,
      "outputs": []
    },
    {
      "cell_type": "code",
      "source": [
        ""
      ],
      "metadata": {
        "id": "3GN0zVgqR7Gj"
      },
      "execution_count": null,
      "outputs": []
    },
    {
      "cell_type": "code",
      "source": [
        ""
      ],
      "metadata": {
        "id": "HFMMYtS9R7J8"
      },
      "execution_count": null,
      "outputs": []
    },
    {
      "cell_type": "code",
      "source": [
        ""
      ],
      "metadata": {
        "id": "L8efcrB0R7NW"
      },
      "execution_count": null,
      "outputs": []
    },
    {
      "cell_type": "code",
      "source": [
        ""
      ],
      "metadata": {
        "id": "mqfrrHRCR7RJ"
      },
      "execution_count": null,
      "outputs": []
    },
    {
      "cell_type": "code",
      "source": [
        ""
      ],
      "metadata": {
        "id": "HsXdIrn-R7UP"
      },
      "execution_count": null,
      "outputs": []
    }
  ]
}